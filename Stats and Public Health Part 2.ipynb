{
 "cells": [
  {
   "cell_type": "markdown",
   "id": "375f4391",
   "metadata": {},
   "source": [
    "## Stats and Public Health - Part 2"
   ]
  },
  {
   "cell_type": "markdown",
   "id": "9962785b",
   "metadata": {},
   "source": [
    "#### Author   : Mehrnoosh Behzadi\n",
    "#### Contact : mehrnoosh.behzadi@gmail.com\n",
    "#### Date       : June 11th, 2023"
   ]
  },
  {
   "cell_type": "markdown",
   "id": "a2545151",
   "metadata": {},
   "source": [
    "### Intruduction"
   ]
  },
  {
   "cell_type": "markdown",
   "id": "e69a22fa",
   "metadata": {},
   "source": [
    "We are exploring the West Nile Virus (WNV) dataset again, containing mosquito tracking data from the city of Chicago, Illinois, spanning from 2007 to 2019. \n",
    "Since the data is preprocessed and cleaned, we just move on to a set of analyses on the relationship between the different variables and the mosquito number, as well as the probability of finding WNV Virus at any particular time and location. "
   ]
  },
  {
   "cell_type": "markdown",
   "id": "0ebc10ae",
   "metadata": {},
   "source": [
    "#### Table of Content\n",
    "- [Part 1 - Basic Analysis](#part-1)\n",
    "- [Part 2 - Statistical Analysis](#part-2)\n",
    "- [Part 3 - Advanced Statistical Analysis](#part-3)"
   ]
  },
  {
   "cell_type": "code",
   "execution_count": 11,
   "id": "f7523dae",
   "metadata": {},
   "outputs": [],
   "source": [
    "# Import required libraries\n",
    "import numpy as np\n",
    "import pandas as pd\n",
    "import matplotlib.pyplot as plt\n",
    "import seaborn as sns\n",
    "from scipy import stats\n",
    "import statsmodels.api as sm"
   ]
  },
  {
   "cell_type": "code",
   "execution_count": 12,
   "id": "769a7bb9",
   "metadata": {},
   "outputs": [],
   "source": [
    "# Read the mosquito data from the CSV file using pandas\n",
    "df = pd.read_csv('mosquito_data_part_2.csv')"
   ]
  },
  {
   "cell_type": "code",
   "execution_count": 13,
   "id": "ef36fbbd",
   "metadata": {},
   "outputs": [
    {
     "name": "stdout",
     "output_type": "stream",
     "text": [
      "<class 'pandas.core.frame.DataFrame'>\n",
      "RangeIndex: 18495 entries, 0 to 18494\n",
      "Data columns (total 12 columns):\n",
      " #   Column           Non-Null Count  Dtype  \n",
      "---  ------           --------------  -----  \n",
      " 0   Year             18495 non-null  int64  \n",
      " 1   Week             18495 non-null  int64  \n",
      " 2   Address Block    18495 non-null  object \n",
      " 3   Trap             18495 non-null  object \n",
      " 4   Trap type        18495 non-null  object \n",
      " 5   Date             18495 non-null  object \n",
      " 6   Mosquito number  18495 non-null  int64  \n",
      " 7   WNV Present      18495 non-null  object \n",
      " 8   Species          18495 non-null  object \n",
      " 9   Lat              18495 non-null  float64\n",
      " 10  Lon              18495 non-null  float64\n",
      " 11  Month            18495 non-null  int64  \n",
      "dtypes: float64(2), int64(4), object(6)\n",
      "memory usage: 1.7+ MB\n"
     ]
    }
   ],
   "source": [
    "# Display summary information about the DataFrame\n",
    "df.info()"
   ]
  },
  {
   "cell_type": "markdown",
   "id": "14ecedbe",
   "metadata": {},
   "source": [
    "The dataset has the following characteristics:\n",
    "\n",
    "- The dataset consists of 18,495 entries and 12 columns.\n",
    "- The columns include features such as 'Year', 'Week', 'Address Block', 'Trap', 'Trap type', 'Date', 'Mosquito number', 'WNV Present', 'Species', 'Lat', 'Lon', and 'Month'.\n",
    "- The 'Year', 'Week', 'Mosquito number', and 'Month' columns are of integer data type.\n",
    "- The 'Address Block', 'Trap', 'Trap type', 'Date', 'WNV Present', 'Species' columns are of object data type.\n",
    "- The 'Lat' and 'Lon' columns represent latitude and longitude values and are of float data type.\n",
    "- The dataset does not contain any missing values as the 'Non-Null Count' for all columns is equal to the total number of entries (18,495)."
   ]
  },
  {
   "cell_type": "code",
   "execution_count": 14,
   "id": "d1f1f9a0",
   "metadata": {},
   "outputs": [
    {
     "data": {
      "text/html": [
       "<div>\n",
       "<style scoped>\n",
       "    .dataframe tbody tr th:only-of-type {\n",
       "        vertical-align: middle;\n",
       "    }\n",
       "\n",
       "    .dataframe tbody tr th {\n",
       "        vertical-align: top;\n",
       "    }\n",
       "\n",
       "    .dataframe thead th {\n",
       "        text-align: right;\n",
       "    }\n",
       "</style>\n",
       "<table border=\"1\" class=\"dataframe\">\n",
       "  <thead>\n",
       "    <tr style=\"text-align: right;\">\n",
       "      <th></th>\n",
       "      <th>Year</th>\n",
       "      <th>Week</th>\n",
       "      <th>Address Block</th>\n",
       "      <th>Trap</th>\n",
       "      <th>Trap type</th>\n",
       "      <th>Date</th>\n",
       "      <th>Mosquito number</th>\n",
       "      <th>WNV Present</th>\n",
       "      <th>Species</th>\n",
       "      <th>Lat</th>\n",
       "      <th>Lon</th>\n",
       "      <th>Month</th>\n",
       "    </tr>\n",
       "  </thead>\n",
       "  <tbody>\n",
       "    <tr>\n",
       "      <th>0</th>\n",
       "      <td>2019</td>\n",
       "      <td>39</td>\n",
       "      <td>100XX W OHARE AIRPORT</td>\n",
       "      <td>T910</td>\n",
       "      <td>GRAVID</td>\n",
       "      <td>2019-09-26 00:09:00</td>\n",
       "      <td>2</td>\n",
       "      <td>negative</td>\n",
       "      <td>CULEX RESTUANS</td>\n",
       "      <td>41.977738</td>\n",
       "      <td>-87.880969</td>\n",
       "      <td>9</td>\n",
       "    </tr>\n",
       "    <tr>\n",
       "      <th>1</th>\n",
       "      <td>2019</td>\n",
       "      <td>39</td>\n",
       "      <td>52XX S KOLMAR AVE</td>\n",
       "      <td>T114</td>\n",
       "      <td>GRAVID</td>\n",
       "      <td>2019-09-26 00:09:00</td>\n",
       "      <td>1</td>\n",
       "      <td>negative</td>\n",
       "      <td>CULEX RESTUANS</td>\n",
       "      <td>41.798211</td>\n",
       "      <td>-87.736925</td>\n",
       "      <td>9</td>\n",
       "    </tr>\n",
       "    <tr>\n",
       "      <th>2</th>\n",
       "      <td>2019</td>\n",
       "      <td>39</td>\n",
       "      <td>58XX N WESTERN AVE</td>\n",
       "      <td>T028</td>\n",
       "      <td>GRAVID</td>\n",
       "      <td>2019-09-26 00:09:00</td>\n",
       "      <td>2</td>\n",
       "      <td>negative</td>\n",
       "      <td>CULEX RESTUANS</td>\n",
       "      <td>41.987245</td>\n",
       "      <td>-87.689417</td>\n",
       "      <td>9</td>\n",
       "    </tr>\n",
       "    <tr>\n",
       "      <th>3</th>\n",
       "      <td>2019</td>\n",
       "      <td>39</td>\n",
       "      <td>39XX N SPRINGFIELD AVE</td>\n",
       "      <td>T228</td>\n",
       "      <td>GRAVID</td>\n",
       "      <td>2019-09-26 00:09:00</td>\n",
       "      <td>1</td>\n",
       "      <td>negative</td>\n",
       "      <td>CULEX RESTUANS</td>\n",
       "      <td>41.953664</td>\n",
       "      <td>-87.724987</td>\n",
       "      <td>9</td>\n",
       "    </tr>\n",
       "    <tr>\n",
       "      <th>4</th>\n",
       "      <td>2019</td>\n",
       "      <td>39</td>\n",
       "      <td>131XX S BRANDON AVE</td>\n",
       "      <td>T209</td>\n",
       "      <td>GRAVID</td>\n",
       "      <td>2019-09-26 00:09:00</td>\n",
       "      <td>9</td>\n",
       "      <td>negative</td>\n",
       "      <td>CULEX RESTUANS</td>\n",
       "      <td>41.657069</td>\n",
       "      <td>-87.546049</td>\n",
       "      <td>9</td>\n",
       "    </tr>\n",
       "  </tbody>\n",
       "</table>\n",
       "</div>"
      ],
      "text/plain": [
       "   Year  Week           Address Block  Trap Trap type                 Date  \\\n",
       "0  2019    39   100XX W OHARE AIRPORT  T910    GRAVID  2019-09-26 00:09:00   \n",
       "1  2019    39       52XX S KOLMAR AVE  T114    GRAVID  2019-09-26 00:09:00   \n",
       "2  2019    39      58XX N WESTERN AVE  T028    GRAVID  2019-09-26 00:09:00   \n",
       "3  2019    39  39XX N SPRINGFIELD AVE  T228    GRAVID  2019-09-26 00:09:00   \n",
       "4  2019    39     131XX S BRANDON AVE  T209    GRAVID  2019-09-26 00:09:00   \n",
       "\n",
       "   Mosquito number WNV Present         Species        Lat        Lon  Month  \n",
       "0                2    negative  CULEX RESTUANS  41.977738 -87.880969      9  \n",
       "1                1    negative  CULEX RESTUANS  41.798211 -87.736925      9  \n",
       "2                2    negative  CULEX RESTUANS  41.987245 -87.689417      9  \n",
       "3                1    negative  CULEX RESTUANS  41.953664 -87.724987      9  \n",
       "4                9    negative  CULEX RESTUANS  41.657069 -87.546049      9  "
      ]
     },
     "execution_count": 14,
     "metadata": {},
     "output_type": "execute_result"
    }
   ],
   "source": [
    "# Display the first few rows of the DataFrame\n",
    "df.head()"
   ]
  },
  {
   "cell_type": "markdown",
   "id": "ca0b6933",
   "metadata": {},
   "source": [
    "### Part 1 - Basic Analysis <a class=\"anchor\" id=\"part-1\"></a>"
   ]
  },
  {
   "cell_type": "markdown",
   "id": "3514f775",
   "metadata": {},
   "source": [
    "#### Question 1-1: Convert the WNV Present column into a binary column and create dummy variables from the Trap type column."
   ]
  },
  {
   "cell_type": "code",
   "execution_count": 15,
   "id": "5a86662b",
   "metadata": {},
   "outputs": [],
   "source": [
    "# Q1-1 : Convert \"WNV Present\" column to binary\n",
    "df['WNV Present'] = df['WNV Present'].replace({'negative': 0, 'positive': 1})\n",
    "\n",
    "# Create dummy variables for \"Trap type\" column\n",
    "df = pd.get_dummies(df, columns=['Trap type'])"
   ]
  },
  {
   "cell_type": "code",
   "execution_count": 16,
   "id": "36e07a1b",
   "metadata": {},
   "outputs": [
    {
     "data": {
      "text/html": [
       "<div>\n",
       "<style scoped>\n",
       "    .dataframe tbody tr th:only-of-type {\n",
       "        vertical-align: middle;\n",
       "    }\n",
       "\n",
       "    .dataframe tbody tr th {\n",
       "        vertical-align: top;\n",
       "    }\n",
       "\n",
       "    .dataframe thead th {\n",
       "        text-align: right;\n",
       "    }\n",
       "</style>\n",
       "<table border=\"1\" class=\"dataframe\">\n",
       "  <thead>\n",
       "    <tr style=\"text-align: right;\">\n",
       "      <th></th>\n",
       "      <th>Year</th>\n",
       "      <th>Week</th>\n",
       "      <th>Address Block</th>\n",
       "      <th>Trap</th>\n",
       "      <th>Date</th>\n",
       "      <th>Mosquito number</th>\n",
       "      <th>WNV Present</th>\n",
       "      <th>Species</th>\n",
       "      <th>Lat</th>\n",
       "      <th>Lon</th>\n",
       "      <th>Month</th>\n",
       "      <th>Trap type_CDC</th>\n",
       "      <th>Trap type_GRAVID</th>\n",
       "      <th>Trap type_OVI</th>\n",
       "      <th>Trap type_SENTINEL</th>\n",
       "    </tr>\n",
       "  </thead>\n",
       "  <tbody>\n",
       "    <tr>\n",
       "      <th>4451</th>\n",
       "      <td>2015</td>\n",
       "      <td>32</td>\n",
       "      <td>70XX N MOSELLE AVE</td>\n",
       "      <td>T008</td>\n",
       "      <td>2015-08-13 00:08:00</td>\n",
       "      <td>3</td>\n",
       "      <td>0</td>\n",
       "      <td>CULEX PIPIENS</td>\n",
       "      <td>42.007998</td>\n",
       "      <td>-87.778235</td>\n",
       "      <td>8</td>\n",
       "      <td>0</td>\n",
       "      <td>1</td>\n",
       "      <td>0</td>\n",
       "      <td>0</td>\n",
       "    </tr>\n",
       "    <tr>\n",
       "      <th>5564</th>\n",
       "      <td>2014</td>\n",
       "      <td>36</td>\n",
       "      <td>89XX S MUSKEGON AVE</td>\n",
       "      <td>T099</td>\n",
       "      <td>2014-09-05 00:09:00</td>\n",
       "      <td>1</td>\n",
       "      <td>1</td>\n",
       "      <td>CULEX PIPIENS</td>\n",
       "      <td>41.733188</td>\n",
       "      <td>-87.555629</td>\n",
       "      <td>9</td>\n",
       "      <td>0</td>\n",
       "      <td>1</td>\n",
       "      <td>0</td>\n",
       "      <td>0</td>\n",
       "    </tr>\n",
       "    <tr>\n",
       "      <th>17670</th>\n",
       "      <td>2014</td>\n",
       "      <td>37</td>\n",
       "      <td>5XX S CENTRAL AVE</td>\n",
       "      <td>T031</td>\n",
       "      <td>2014-09-11 00:09:00</td>\n",
       "      <td>21</td>\n",
       "      <td>1</td>\n",
       "      <td>CULEX PIPIENS</td>\n",
       "      <td>41.872881</td>\n",
       "      <td>-87.764730</td>\n",
       "      <td>9</td>\n",
       "      <td>0</td>\n",
       "      <td>1</td>\n",
       "      <td>0</td>\n",
       "      <td>0</td>\n",
       "    </tr>\n",
       "    <tr>\n",
       "      <th>12959</th>\n",
       "      <td>2008</td>\n",
       "      <td>34</td>\n",
       "      <td>28XX N FRANCISCO AVE</td>\n",
       "      <td>T147</td>\n",
       "      <td>2008-08-25 00:08:00</td>\n",
       "      <td>3</td>\n",
       "      <td>0</td>\n",
       "      <td>CULEX RESTUANS</td>\n",
       "      <td>41.932790</td>\n",
       "      <td>-87.700238</td>\n",
       "      <td>8</td>\n",
       "      <td>0</td>\n",
       "      <td>1</td>\n",
       "      <td>0</td>\n",
       "      <td>0</td>\n",
       "    </tr>\n",
       "    <tr>\n",
       "      <th>11739</th>\n",
       "      <td>2009</td>\n",
       "      <td>37</td>\n",
       "      <td>1XX N CENTRAL PARK DR</td>\n",
       "      <td>T030</td>\n",
       "      <td>2009-09-17 00:09:00</td>\n",
       "      <td>1</td>\n",
       "      <td>0</td>\n",
       "      <td>CULEX RESTUANS</td>\n",
       "      <td>41.883772</td>\n",
       "      <td>-87.716168</td>\n",
       "      <td>9</td>\n",
       "      <td>0</td>\n",
       "      <td>1</td>\n",
       "      <td>0</td>\n",
       "      <td>0</td>\n",
       "    </tr>\n",
       "    <tr>\n",
       "      <th>12928</th>\n",
       "      <td>2008</td>\n",
       "      <td>34</td>\n",
       "      <td>15XX W WEBSTER AVE</td>\n",
       "      <td>T045</td>\n",
       "      <td>2008-08-26 00:08:00</td>\n",
       "      <td>2</td>\n",
       "      <td>0</td>\n",
       "      <td>CULEX PIPIENS</td>\n",
       "      <td>41.921705</td>\n",
       "      <td>-87.666963</td>\n",
       "      <td>8</td>\n",
       "      <td>0</td>\n",
       "      <td>1</td>\n",
       "      <td>0</td>\n",
       "      <td>0</td>\n",
       "    </tr>\n",
       "    <tr>\n",
       "      <th>15139</th>\n",
       "      <td>2007</td>\n",
       "      <td>26</td>\n",
       "      <td>91XX W HIGGINS RD</td>\n",
       "      <td>T009</td>\n",
       "      <td>2007-07-27 11:07:18</td>\n",
       "      <td>1</td>\n",
       "      <td>0</td>\n",
       "      <td>CULEX PIPIENS</td>\n",
       "      <td>41.988586</td>\n",
       "      <td>-87.854473</td>\n",
       "      <td>7</td>\n",
       "      <td>1</td>\n",
       "      <td>0</td>\n",
       "      <td>0</td>\n",
       "      <td>0</td>\n",
       "    </tr>\n",
       "    <tr>\n",
       "      <th>14958</th>\n",
       "      <td>2007</td>\n",
       "      <td>28</td>\n",
       "      <td>64XX S STONY ISLAND AVE</td>\n",
       "      <td>T077</td>\n",
       "      <td>2007-08-01 02:08:34</td>\n",
       "      <td>2</td>\n",
       "      <td>0</td>\n",
       "      <td>CULEX PIPIENS</td>\n",
       "      <td>41.778129</td>\n",
       "      <td>-87.586245</td>\n",
       "      <td>8</td>\n",
       "      <td>1</td>\n",
       "      <td>0</td>\n",
       "      <td>0</td>\n",
       "      <td>0</td>\n",
       "    </tr>\n",
       "    <tr>\n",
       "      <th>15270</th>\n",
       "      <td>2007</td>\n",
       "      <td>27</td>\n",
       "      <td>42XX N RICHMOND ST</td>\n",
       "      <td>T146</td>\n",
       "      <td>2007-07-11 03:07:41</td>\n",
       "      <td>1</td>\n",
       "      <td>0</td>\n",
       "      <td>CULEX PIPIENS</td>\n",
       "      <td>41.958006</td>\n",
       "      <td>-87.702181</td>\n",
       "      <td>7</td>\n",
       "      <td>0</td>\n",
       "      <td>1</td>\n",
       "      <td>0</td>\n",
       "      <td>0</td>\n",
       "    </tr>\n",
       "    <tr>\n",
       "      <th>2849</th>\n",
       "      <td>2017</td>\n",
       "      <td>28</td>\n",
       "      <td>89XX S CARPENTER ST</td>\n",
       "      <td>T159</td>\n",
       "      <td>2017-07-14 00:07:00</td>\n",
       "      <td>15</td>\n",
       "      <td>0</td>\n",
       "      <td>CULEX RESTUANS</td>\n",
       "      <td>41.731447</td>\n",
       "      <td>-87.649722</td>\n",
       "      <td>7</td>\n",
       "      <td>0</td>\n",
       "      <td>1</td>\n",
       "      <td>0</td>\n",
       "      <td>0</td>\n",
       "    </tr>\n",
       "  </tbody>\n",
       "</table>\n",
       "</div>"
      ],
      "text/plain": [
       "       Year  Week            Address Block  Trap                 Date  \\\n",
       "4451   2015    32       70XX N MOSELLE AVE  T008  2015-08-13 00:08:00   \n",
       "5564   2014    36      89XX S MUSKEGON AVE  T099  2014-09-05 00:09:00   \n",
       "17670  2014    37        5XX S CENTRAL AVE  T031  2014-09-11 00:09:00   \n",
       "12959  2008    34     28XX N FRANCISCO AVE  T147  2008-08-25 00:08:00   \n",
       "11739  2009    37    1XX N CENTRAL PARK DR  T030  2009-09-17 00:09:00   \n",
       "12928  2008    34       15XX W WEBSTER AVE  T045  2008-08-26 00:08:00   \n",
       "15139  2007    26        91XX W HIGGINS RD  T009  2007-07-27 11:07:18   \n",
       "14958  2007    28  64XX S STONY ISLAND AVE  T077  2007-08-01 02:08:34   \n",
       "15270  2007    27       42XX N RICHMOND ST  T146  2007-07-11 03:07:41   \n",
       "2849   2017    28      89XX S CARPENTER ST  T159  2017-07-14 00:07:00   \n",
       "\n",
       "       Mosquito number  WNV Present         Species        Lat        Lon  \\\n",
       "4451                 3            0   CULEX PIPIENS  42.007998 -87.778235   \n",
       "5564                 1            1   CULEX PIPIENS  41.733188 -87.555629   \n",
       "17670               21            1   CULEX PIPIENS  41.872881 -87.764730   \n",
       "12959                3            0  CULEX RESTUANS  41.932790 -87.700238   \n",
       "11739                1            0  CULEX RESTUANS  41.883772 -87.716168   \n",
       "12928                2            0   CULEX PIPIENS  41.921705 -87.666963   \n",
       "15139                1            0   CULEX PIPIENS  41.988586 -87.854473   \n",
       "14958                2            0   CULEX PIPIENS  41.778129 -87.586245   \n",
       "15270                1            0   CULEX PIPIENS  41.958006 -87.702181   \n",
       "2849                15            0  CULEX RESTUANS  41.731447 -87.649722   \n",
       "\n",
       "       Month  Trap type_CDC  Trap type_GRAVID  Trap type_OVI  \\\n",
       "4451       8              0                 1              0   \n",
       "5564       9              0                 1              0   \n",
       "17670      9              0                 1              0   \n",
       "12959      8              0                 1              0   \n",
       "11739      9              0                 1              0   \n",
       "12928      8              0                 1              0   \n",
       "15139      7              1                 0              0   \n",
       "14958      8              1                 0              0   \n",
       "15270      7              0                 1              0   \n",
       "2849       7              0                 1              0   \n",
       "\n",
       "       Trap type_SENTINEL  \n",
       "4451                    0  \n",
       "5564                    0  \n",
       "17670                   0  \n",
       "12959                   0  \n",
       "11739                   0  \n",
       "12928                   0  \n",
       "15139                   0  \n",
       "14958                   0  \n",
       "15270                   0  \n",
       "2849                    0  "
      ]
     },
     "execution_count": 16,
     "metadata": {},
     "output_type": "execute_result"
    }
   ],
   "source": [
    "df.sample(10)"
   ]
  },
  {
   "cell_type": "markdown",
   "id": "bc5c2f06",
   "metadata": {},
   "source": [
    "#### Question 1-2: Calculate the average number of mosquitoes for each month"
   ]
  },
  {
   "cell_type": "markdown",
   "id": "d11b8826",
   "metadata": {},
   "source": [
    "The average number of mosquitoes caught per month suggest a seasonal pattern in mosquito activity, with the highest numbers observed in the summer months (June, July, and August) and a decline in the fall months (September and October). This information can be valuable for understanding mosquito population dynamics and planning mosquito control strategies."
   ]
  },
  {
   "cell_type": "code",
   "execution_count": 40,
   "id": "0c88a386",
   "metadata": {
    "scrolled": true
   },
   "outputs": [
    {
     "name": "stdout",
     "output_type": "stream",
     "text": [
      "Month\n",
      "5      2.761905\n",
      "6     10.264442\n",
      "7     11.551879\n",
      "8     12.111321\n",
      "9      8.394973\n",
      "10     5.377778\n",
      "Name: Mosquito number, dtype: float64\n"
     ]
    }
   ],
   "source": [
    "# Q1-2 : Calculate the average number of mosquitoes for each month\n",
    "average_mosquitoes_per_month = df.groupby('Month')['Mosquito number'].mean()\n",
    "\n",
    "print(average_mosquitoes_per_month)"
   ]
  },
  {
   "cell_type": "code",
   "execution_count": 41,
   "id": "dfa73421",
   "metadata": {},
   "outputs": [
    {
     "data": {
      "image/png": "[encoded data removed]",
      "text/plain": [
       "<Figure size 1080x360 with 1 Axes>"
      ]
     },
     "metadata": {
      "needs_background": "light"
     },
     "output_type": "display_data"
    }
   ],
   "source": [
    "plt.figure(figsize=(15, 5))\n",
    "average_mosquitoes_per_month.plot(kind='bar')\n",
    "plt.xlabel('Month')\n",
    "plt.ylabel('Average Mosquitoes')\n",
    "plt.title('Average Number of Mosquitoes by Month')\n",
    "plt.show()"
   ]
  },
  {
   "cell_type": "markdown",
   "id": "368afbb2",
   "metadata": {},
   "source": [
    "### Part 2 - Statistical Analysis <a class=\"anchor\" id=\"part-2\"></a>"
   ]
  },
  {
   "cell_type": "markdown",
   "id": "bbba0888",
   "metadata": {},
   "source": [
    "#### Q2-1: Chi-square Test of Independence: Mosquito Species and WNV Presence"
   ]
  },
  {
   "cell_type": "markdown",
   "id": "06526c84",
   "metadata": {},
   "source": [
    "In this section the chi-square test of independence was conducted to analyze the relationship between mosquito species and the presence of West Nile Virus (WNV)."
   ]
  },
  {
   "cell_type": "code",
   "execution_count": 20,
   "id": "4b2dfdf5",
   "metadata": {},
   "outputs": [
    {
     "name": "stdout",
     "output_type": "stream",
     "text": [
      "Chi-square statistic: 311.10394683130164\n",
      "P-value: 3.9302341764409087e-67\n"
     ]
    }
   ],
   "source": [
    "# Q2-1 : Chi-square Test of Independence: Mosquito Species and WNV Presence\n",
    "from scipy.stats import chi2_contingency\n",
    "# Contingency table of mosquito species and WNV presence\n",
    "contingency_table = pd.crosstab(df['Species'], df['WNV Present'])\n",
    "\n",
    "# Perform chi-square test of independence\n",
    "chi2, p_value, dof, expected = chi2_contingency(contingency_table)\n",
    "\n",
    "print(\"Chi-square statistic:\", chi2)\n",
    "print(\"P-value:\", p_value)"
   ]
  },
  {
   "cell_type": "markdown",
   "id": "fbcbfcaf",
   "metadata": {},
   "source": [
    "Based on these results, we can conclude that there is a highly significant relationship between mosquito species and the presence of WNV. The association suggests that different mosquito species may have varying levels of susceptibility to WNV or play different roles in its transmission."
   ]
  },
  {
   "cell_type": "markdown",
   "id": "9231b976",
   "metadata": {},
   "source": [
    "#### Question 2-2: Calculate correlations and p-values with Mosquito number"
   ]
  },
  {
   "cell_type": "markdown",
   "id": "b9bb2f13",
   "metadata": {},
   "source": [
    "The correlation coefficients include the correlation with the \"WNV Present\" variable, which measures the strength and direction of the linear relationship between \"Mosquito number\" and the presence of West Nile Virus (WNV)."
   ]
  },
  {
   "cell_type": "code",
   "execution_count": 42,
   "id": "d296f6bf",
   "metadata": {},
   "outputs": [
    {
     "name": "stdout",
     "output_type": "stream",
     "text": [
      "WNV Present: Positive correlation (0.40803439689029875), Significant\n",
      "Lon: Negative correlation (-0.151421125968909), Significant\n",
      "Trap type_GRAVID: Negative correlation (-0.13827479127699158), Significant\n",
      "Year: Positive correlation (0.12932594549371043), Significant\n",
      "Trap type_SENTINEL: Positive correlation (0.10857486046661546), Significant\n",
      "Lat: Positive correlation (0.09681989674648903), Significant\n",
      "Trap type_CDC: Positive correlation (0.09414701564247441), Significant\n",
      "Month: Negative correlation (-0.040426437196600794), Significant\n",
      "Week: Negative correlation (-0.0338996075449608), Significant\n",
      "Trap type_OVI: Negative correlation (-0.005391611231865273), Not significant\n"
     ]
    }
   ],
   "source": [
    "# Q2-2 : Calculate correlations and p-values with \"Mosquito number\"\n",
    "from scipy.stats import pearsonr\n",
    "\n",
    "correlations = {}\n",
    "p_values = {}\n",
    "columns = df.select_dtypes(include='number').columns\n",
    "\n",
    "for column in columns:\n",
    "    if column != 'Mosquito number':\n",
    "        correlation, p_value = pearsonr(df['Mosquito number'], df[column])\n",
    "        correlations[column] = correlation\n",
    "        p_values[column] = p_value\n",
    "\n",
    "# Sort the correlations by magnitude\n",
    "sorted_correlations = sorted(correlations.items(), key=lambda x: abs(x[1]), reverse=True)\n",
    "\n",
    "# Print the sorted correlations and p-values\n",
    "for column, correlation in sorted_correlations:\n",
    "    p_value = p_values[column]\n",
    "    significance = \"Significant\" if p_value < 0.05 else \"Not significant\"\n",
    "    if correlation > 0:\n",
    "        print(f\"{column}: Positive correlation ({correlation}), {significance}\")\n",
    "    else:\n",
    "        print(f\"{column}: Negative correlation ({correlation}), {significance}\")"
   ]
  },
  {
   "cell_type": "markdown",
   "id": "9e144c11",
   "metadata": {},
   "source": [
    "The positive correlations with \"Year\", \"Trap type_SENTINEL\", \"Lat\", and \"Trap type_CDC\" indicate that these variables are positively associated with higher mosquito numbers caught. The negative correlations with \"Month\" and \"Week\" suggest that mosquito numbers tend to decrease as the month and week progress.\n",
    "\n",
    "It's important to consider the significance of these correlations. All correlations mentioned above are statistically significant, indicating that the observed relationships are unlikely to have occurred by chance alone."
   ]
  },
  {
   "cell_type": "code",
   "execution_count": 25,
   "id": "f3a5f849",
   "metadata": {},
   "outputs": [
    {
     "data": {
      "image/png": "[encoded data removed]",
      "text/plain": [
       "<Figure size 720x360 with 1 Axes>"
      ]
     },
     "metadata": {
      "needs_background": "light"
     },
     "output_type": "display_data"
    }
   ],
   "source": [
    "correlation_values = [correlation for _, correlation in sorted_correlations]\n",
    "columns = [column for column, _ in sorted_correlations]\n",
    "\n",
    "plt.figure(figsize=(10, 5))\n",
    "plt.barh(columns, correlation_values)\n",
    "plt.xlabel('Columns')\n",
    "plt.ylabel('Correlation')\n",
    "plt.title('Correlation between Mosquito Number and Other Columns')\n",
    "plt.xticks(rotation=90)\n",
    "plt.show()"
   ]
  },
  {
   "cell_type": "markdown",
   "id": "e10309af",
   "metadata": {},
   "source": [
    "### Part 3 - Advanced Statistical Analysis <a class=\"anchor\" id=\"part-3\"></a>"
   ]
  },
  {
   "cell_type": "markdown",
   "id": "7a845f82",
   "metadata": {},
   "source": [
    "#### Question 3-1: Explore the impact of independent variables on number of mosquitos caught using linear regression"
   ]
  },
  {
   "cell_type": "markdown",
   "id": "47332014",
   "metadata": {},
   "source": [
    "In this section the linear regression was conducted to determine how the independent variables affect the number of mosquitoes caugh."
   ]
  },
  {
   "cell_type": "code",
   "execution_count": 26,
   "id": "fb5cf641",
   "metadata": {},
   "outputs": [],
   "source": [
    "# Q3-1 : Explore the impact of independent variables on number of mosquitos caught using linear regression\n",
    "\n",
    "# Identify independent and dependent variables\n",
    "X = df[['Year', 'Week', 'Lat', 'Lon', 'Month']]\n",
    "y = df['Mosquito number']"
   ]
  },
  {
   "cell_type": "code",
   "execution_count": 27,
   "id": "404c3129",
   "metadata": {},
   "outputs": [
    {
     "data": {
      "image/png": "[encoded data removed]",
      "text/plain": [
       "<Figure size 1224x432 with 5 Axes>"
      ]
     },
     "metadata": {
      "needs_background": "light"
     },
     "output_type": "display_data"
    }
   ],
   "source": [
    "# Is the relation linear?\n",
    "plt.subplots(1, 5, figsize=(17, 6))\n",
    "\n",
    "for index, col in enumerate(X.columns):\n",
    "    plt.subplot(1, 5, index + 1)\n",
    "    plt.scatter(X[col], y)\n",
    "    plt.title(f\"Relation between {col} and mosquitoes\")\n",
    "    plt.ylabel(\"Number of mosquitoes caught\")\n",
    "    plt.xlabel(col)\n",
    "\n",
    "plt.tight_layout()\n",
    "plt.show()"
   ]
  },
  {
   "cell_type": "code",
   "execution_count": 28,
   "id": "3b0318a5",
   "metadata": {
    "scrolled": false
   },
   "outputs": [
    {
     "name": "stdout",
     "output_type": "stream",
     "text": [
      "                            OLS Regression Results                            \n",
      "==============================================================================\n",
      "Dep. Variable:        Mosquito number   R-squared:                       0.038\n",
      "Model:                            OLS   Adj. R-squared:                  0.038\n",
      "Method:                 Least Squares   F-statistic:                     146.5\n",
      "Date:                Mon, 12 Jun 2023   Prob (F-statistic):          4.92e-153\n",
      "Time:                        02:39:00   Log-Likelihood:                -73986.\n",
      "No. Observations:               18495   AIC:                         1.480e+05\n",
      "Df Residuals:                   18489   BIC:                         1.480e+05\n",
      "Df Model:                           5                                         \n",
      "Covariance Type:            nonrobust                                         \n",
      "==============================================================================\n",
      "                 coef    std err          t      P>|t|      [0.025      0.975]\n",
      "------------------------------------------------------------------------------\n",
      "const      -2777.3672    112.169    -24.761      0.000   -2997.229   -2557.505\n",
      "Year           0.4265      0.027     15.754      0.000       0.373       0.480\n",
      "Week          -0.1552      0.073     -2.124      0.034      -0.299      -0.012\n",
      "Lat           -5.1505      1.273     -4.047      0.000      -7.645      -2.656\n",
      "Lon          -24.4887      1.540    -15.905      0.000     -27.507     -21.471\n",
      "Month          0.2723      0.319      0.854      0.393      -0.353       0.897\n",
      "==============================================================================\n",
      "Omnibus:                     5102.791   Durbin-Watson:                   1.522\n",
      "Prob(Omnibus):                  0.000   Jarque-Bera (JB):            10955.269\n",
      "Skew:                           1.641   Prob(JB):                         0.00\n",
      "Kurtosis:                       4.855   Cond. No.                     2.33e+06\n",
      "==============================================================================\n",
      "\n",
      "Notes:\n",
      "[1] Standard Errors assume that the covariance matrix of the errors is correctly specified.\n",
      "[2] The condition number is large, 2.33e+06. This might indicate that there are\n",
      "strong multicollinearity or other numerical problems.\n"
     ]
    }
   ],
   "source": [
    "# Add constant to the independent variables\n",
    "X = sm.add_constant(X)\n",
    "\n",
    "# Fit the linear regression model\n",
    "model = sm.OLS(y, X)\n",
    "results = model.fit()\n",
    "\n",
    "# Print the summary of the model\n",
    "print(results.summary())"
   ]
  },
  {
   "cell_type": "markdown",
   "id": "9b6ba110",
   "metadata": {},
   "source": [
    "Overall, the model suggests that the 'Mosquito number' is influenced by the 'Year', 'Week', 'Lat', 'Lon', and 'Month'. However, the low R-squared value indicates that these variables explain only a small portion of the variation in the 'Mosquito number'. Further analysis may be needed to improve the model's predictive power and consider additional factors."
   ]
  },
  {
   "cell_type": "markdown",
   "id": "413f1deb",
   "metadata": {},
   "source": [
    "#### Question 3-2: Explore the impact of independent variables on West Nile Virus presence using logistic regression"
   ]
  },
  {
   "cell_type": "code",
   "execution_count": 35,
   "id": "847b2629",
   "metadata": {},
   "outputs": [],
   "source": [
    "#Q3-2 : Explore the impact of independent variables on West Nile Virus presence using logistic regression\n",
    "\n",
    "# Select independent variables and target variable\n",
    "X = df[['Year', 'Week', 'Lat', 'Lon', 'Mosquito number']]\n",
    "y = df['WNV Present']"
   ]
  },
  {
   "cell_type": "code",
   "execution_count": 37,
   "id": "954311ef",
   "metadata": {},
   "outputs": [
    {
     "name": "stdout",
     "output_type": "stream",
     "text": [
      "Optimization terminated successfully.\n",
      "         Current function value: 0.411046\n",
      "         Iterations 8\n",
      "                           Logit Regression Results                           \n",
      "==============================================================================\n",
      "Dep. Variable:            WNV Present   No. Observations:                18495\n",
      "Model:                          Logit   Df Residuals:                    18489\n",
      "Method:                           MLE   Df Model:                            5\n",
      "Date:                Mon, 12 Jun 2023   Pseudo R-squ.:                  0.2122\n",
      "Time:                        02:49:11   Log-Likelihood:                -7602.3\n",
      "converged:                       True   LL-Null:                       -9649.5\n",
      "Covariance Type:            nonrobust   LLR p-value:                     0.000\n",
      "===================================================================================\n",
      "                      coef    std err          z      P>|z|      [0.025      0.975]\n",
      "-----------------------------------------------------------------------------------\n",
      "const            -497.1134     23.794    -20.892      0.000    -543.749    -450.478\n",
      "Year                0.0955      0.006     16.444      0.000       0.084       0.107\n",
      "Week                0.1544      0.005     29.044      0.000       0.144       0.165\n",
      "Lat                -0.7445      0.284     -2.619      0.009      -1.302      -0.187\n",
      "Lon                -3.7496      0.331    -11.329      0.000      -4.398      -3.101\n",
      "Mosquito number     0.0672      0.001     47.620      0.000       0.064       0.070\n",
      "===================================================================================\n"
     ]
    }
   ],
   "source": [
    "# Add a constant column to the independent variables\n",
    "X = sm.add_constant(X)\n",
    "\n",
    "# Fit the logistic regression model\n",
    "model = sm.Logit(y, X)\n",
    "result = model.fit()\n",
    "\n",
    "# Print the summary of the logistic regression model\n",
    "print(result.summary())"
   ]
  },
  {
   "cell_type": "markdown",
   "id": "c745434a",
   "metadata": {},
   "source": [
    "The model has converged successfully, indicating that the optimization process reached a stable solution. However, it's important to note that this model assumes no multicollinearity or other numerical problems. Additional diagnostics and evaluation of the model's performance may be necessary.\n",
    "\n",
    "Overall, the logistic regression model suggests that the 'Year', 'Week', 'Lat', 'Lon', and 'Mosquito number' have a significant impact on the presence of West Nile Virus. These variables can be used to predict the likelihood of WNV presence based on their respective coefficients."
   ]
  },
  {
   "cell_type": "code",
   "execution_count": 38,
   "id": "f3b7cd20",
   "metadata": {},
   "outputs": [
    {
     "name": "stdout",
     "output_type": "stream",
     "text": [
      "Optimization terminated successfully.\n",
      "         Current function value: 0.411046\n",
      "         Iterations 8\n"
     ]
    },
    {
     "data": {
      "text/html": [
       "<table class=\"simpletable\">\n",
       "<caption>Logit Regression Results</caption>\n",
       "<tr>\n",
       "  <th>Dep. Variable:</th>      <td>WNV Present</td>   <th>  No. Observations:  </th>  <td> 18495</td> \n",
       "</tr>\n",
       "<tr>\n",
       "  <th>Model:</th>                 <td>Logit</td>      <th>  Df Residuals:      </th>  <td> 18489</td> \n",
       "</tr>\n",
       "<tr>\n",
       "  <th>Method:</th>                 <td>MLE</td>       <th>  Df Model:          </th>  <td>     5</td> \n",
       "</tr>\n",
       "<tr>\n",
       "  <th>Date:</th>            <td>Mon, 12 Jun 2023</td> <th>  Pseudo R-squ.:     </th>  <td>0.2122</td> \n",
       "</tr>\n",
       "<tr>\n",
       "  <th>Time:</th>                <td>02:49:16</td>     <th>  Log-Likelihood:    </th> <td> -7602.3</td>\n",
       "</tr>\n",
       "<tr>\n",
       "  <th>converged:</th>             <td>True</td>       <th>  LL-Null:           </th> <td> -9649.5</td>\n",
       "</tr>\n",
       "<tr>\n",
       "  <th>Covariance Type:</th>     <td>nonrobust</td>    <th>  LLR p-value:       </th>  <td> 0.000</td> \n",
       "</tr>\n",
       "</table>\n",
       "<table class=\"simpletable\">\n",
       "<tr>\n",
       "         <td></td>            <th>coef</th>     <th>std err</th>      <th>z</th>      <th>P>|z|</th>  <th>[0.025</th>    <th>0.975]</th>  \n",
       "</tr>\n",
       "<tr>\n",
       "  <th>const</th>           <td> -497.1134</td> <td>   23.794</td> <td>  -20.892</td> <td> 0.000</td> <td> -543.749</td> <td> -450.478</td>\n",
       "</tr>\n",
       "<tr>\n",
       "  <th>Year</th>            <td>    0.0955</td> <td>    0.006</td> <td>   16.444</td> <td> 0.000</td> <td>    0.084</td> <td>    0.107</td>\n",
       "</tr>\n",
       "<tr>\n",
       "  <th>Week</th>            <td>    0.1544</td> <td>    0.005</td> <td>   29.044</td> <td> 0.000</td> <td>    0.144</td> <td>    0.165</td>\n",
       "</tr>\n",
       "<tr>\n",
       "  <th>Lat</th>             <td>   -0.7445</td> <td>    0.284</td> <td>   -2.619</td> <td> 0.009</td> <td>   -1.302</td> <td>   -0.187</td>\n",
       "</tr>\n",
       "<tr>\n",
       "  <th>Lon</th>             <td>   -3.7496</td> <td>    0.331</td> <td>  -11.329</td> <td> 0.000</td> <td>   -4.398</td> <td>   -3.101</td>\n",
       "</tr>\n",
       "<tr>\n",
       "  <th>Mosquito number</th> <td>    0.0672</td> <td>    0.001</td> <td>   47.620</td> <td> 0.000</td> <td>    0.064</td> <td>    0.070</td>\n",
       "</tr>\n",
       "</table>"
      ],
      "text/plain": [
       "<class 'statsmodels.iolib.summary.Summary'>\n",
       "\"\"\"\n",
       "                           Logit Regression Results                           \n",
       "==============================================================================\n",
       "Dep. Variable:            WNV Present   No. Observations:                18495\n",
       "Model:                          Logit   Df Residuals:                    18489\n",
       "Method:                           MLE   Df Model:                            5\n",
       "Date:                Mon, 12 Jun 2023   Pseudo R-squ.:                  0.2122\n",
       "Time:                        02:49:16   Log-Likelihood:                -7602.3\n",
       "converged:                       True   LL-Null:                       -9649.5\n",
       "Covariance Type:            nonrobust   LLR p-value:                     0.000\n",
       "===================================================================================\n",
       "                      coef    std err          z      P>|z|      [0.025      0.975]\n",
       "-----------------------------------------------------------------------------------\n",
       "const            -497.1134     23.794    -20.892      0.000    -543.749    -450.478\n",
       "Year                0.0955      0.006     16.444      0.000       0.084       0.107\n",
       "Week                0.1544      0.005     29.044      0.000       0.144       0.165\n",
       "Lat                -0.7445      0.284     -2.619      0.009      -1.302      -0.187\n",
       "Lon                -3.7496      0.331    -11.329      0.000      -4.398      -3.101\n",
       "Mosquito number     0.0672      0.001     47.620      0.000       0.064       0.070\n",
       "===================================================================================\n",
       "\"\"\""
      ]
     },
     "execution_count": 38,
     "metadata": {},
     "output_type": "execute_result"
    }
   ],
   "source": [
    "# Fitting the model \n",
    "\n",
    "# 1. Instantiate model\n",
    "mylogreg_model= sm.Logit(y,X)\n",
    "\n",
    "# 2. Fit model\n",
    "mylogreg_results = mylogreg_model.fit()\n",
    "\n",
    "# Look at summary\n",
    "mylogreg_results.summary()"
   ]
  },
  {
   "cell_type": "markdown",
   "id": "9ef6a427",
   "metadata": {},
   "source": [
    "In this model, the significant variables with their coefficients are:\n",
    "\n",
    "Year: 0.0955\n",
    "Week: 0.1544\n",
    "Lat: -0.7445\n",
    "Lon: -3.7496\n",
    "Mosquito number: 0.0672\n",
    "\n",
    "These results suggest that the year, week, latitude, longitude, and mosquito number have a significant impact on the likelihood of West Nile Virus presence."
   ]
  }
 ],
 "metadata": {
  "kernelspec": {
   "display_name": "Python 3",
   "language": "python",
   "name": "python3"
  },
  "language_info": {
   "codemirror_mode": {
    "name": "ipython",
    "version": 3
   },
   "file_extension": ".py",
   "mimetype": "text/x-python",
   "name": "python",
   "nbconvert_exporter": "python",
   "pygments_lexer": "ipython3",
   "version": "3.8.8"
  }
 },
 "nbformat": 4,
 "nbformat_minor": 5
}
